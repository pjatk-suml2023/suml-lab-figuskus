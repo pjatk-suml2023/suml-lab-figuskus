{
  "nbformat": 4,
  "nbformat_minor": 0,
  "metadata": {
    "colab": {
      "provenance": [],
      "toc_visible": true
    },
    "kernelspec": {
      "name": "python3",
      "display_name": "Python 3"
    },
    "language_info": {
      "name": "python"
    }
  },
  "cells": [
    {
      "cell_type": "markdown",
      "source": [
        "# Zadanie 1"
      ],
      "metadata": {
        "id": "i4OxGXWNo6U9"
      }
    },
    {
      "cell_type": "code",
      "source": [
        "import pandas as pd\n",
        "\n",
        "data = pd.read_csv(\"DSP_6.csv\")\n",
        "\n",
        "missing_data = data.isnull().sum()\n",
        "print(missing_data)"
      ],
      "metadata": {
        "id": "HWvo1zz7pFR6"
      },
      "execution_count": null,
      "outputs": []
    },
    {
      "cell_type": "markdown",
      "source": [
        "# Zadanie 2"
      ],
      "metadata": {
        "id": "IcL_Sfafo_N5"
      }
    },
    {
      "cell_type": "code",
      "source": [
        "import pandas as pd\n",
        "import matplotlib.pyplot as plt\n",
        "\n",
        "data = pd.read_csv(\"DSP_6.csv\")\n",
        "\n",
        "plt.figure(figsize=(8, 6))\n",
        "data['FamilyMembers'].value_counts().plot(kind='bar')\n",
        "plt.title('Liczba członków rodziny na pokładzie')\n",
        "plt.xlabel('Liczba członków rodziny')\n",
        "plt.ylabel('Liczba pasażerów')\n",
        "plt.show()\n",
        "\n",
        "plt.figure(figsize=(8, 6))\n",
        "plt.hist(data['Fare'], bins=20, color='skyblue')\n",
        "plt.title('Rozkład opłat')\n",
        "plt.xlabel('Opłata')\n",
        "plt.ylabel('Liczba pasażerów')\n",
        "plt.show()"
      ],
      "metadata": {
        "id": "OJYdnyUlpKsZ"
      },
      "execution_count": null,
      "outputs": []
    },
    {
      "cell_type": "markdown",
      "source": [
        "# Zadanie 3"
      ],
      "metadata": {
        "id": "4MGY60TwpC1X"
      }
    },
    {
      "cell_type": "code",
      "source": [
        "import pandas as pd\n",
        "from sklearn.model_selection import train_test_split\n",
        "from sklearn.linear_model import LogisticRegression\n",
        "\n",
        "data = pd.read_csv(\"DSP_6.csv\")\n",
        "\n",
        "X = data.drop(columns='target_column')\n",
        "y = data['target_column']\n",
        "X_train, X_test, y_train, y_test = train_test_split(X, y, test_size=0.2, random_state=42)\n",
        "\n",
        "model = LogisticRegression(max_iter=1000)\n",
        "model.fit(X_train, y_train)\n"
      ],
      "metadata": {
        "id": "S4xreg7PpLE0"
      },
      "execution_count": null,
      "outputs": []
    },
    {
      "cell_type": "markdown",
      "source": [
        "# Zadanie 4"
      ],
      "metadata": {
        "id": "7goq1XrOpD5f"
      }
    },
    {
      "cell_type": "code",
      "source": [
        "import pandas as pd\n",
        "from sklearn.model_selection import train_test_split\n",
        "from sklearn.linear_model import LogisticRegression\n",
        "\n",
        "data = pd.read_csv(\"DSP_2.csv\")\n",
        "\n",
        "X = data.drop(columns='HeartDisease')\n",
        "y = data['HeartDisease']\n",
        "X_train, X_test, y_train, y_test = train_test_split(X, y, test_size=0.2, random_state=42)\n",
        "\n",
        "model = LogisticRegression(max_iter=1000)\n",
        "model.fit(X_train, y_train)"
      ],
      "metadata": {
        "id": "oAuvN42EpLdh"
      },
      "execution_count": null,
      "outputs": []
    }
  ]
}